{
 "cells": [
  {
   "cell_type": "code",
   "execution_count": 2,
   "metadata": {},
   "outputs": [],
   "source": [
    "import pandas as pd\n",
    "import ipywidgets as widgets"
   ]
  },
  {
   "cell_type": "code",
   "execution_count": 3,
   "metadata": {},
   "outputs": [],
   "source": [
    "from random import *"
   ]
  },
  {
   "cell_type": "code",
   "execution_count": null,
   "metadata": {},
   "outputs": [],
   "source": []
  },
  {
   "cell_type": "code",
   "execution_count": null,
   "metadata": {},
   "outputs": [],
   "source": []
  },
  {
   "cell_type": "code",
   "execution_count": 4,
   "metadata": {},
   "outputs": [
    {
     "name": "stdout",
     "output_type": "stream",
     "text": [
      "25\n"
     ]
    }
   ],
   "source": [
    "lifeSpan = randrange(121)\n",
    "print(lifeSpan)"
   ]
  },
  {
   "cell_type": "code",
   "execution_count": 5,
   "metadata": {},
   "outputs": [
    {
     "name": "stdout",
     "output_type": "stream",
     "text": [
      "1.7094473598910696\n"
     ]
    }
   ],
   "source": [
    "birthRate = uniform(1.0, 3.0)\n",
    "print(birthRate)"
   ]
  },
  {
   "cell_type": "code",
   "execution_count": 6,
   "metadata": {},
   "outputs": [
    {
     "name": "stdout",
     "output_type": "stream",
     "text": [
      "Manual Labor\n"
     ]
    }
   ],
   "source": [
    "Occupation = choice(['Manual Labor', 'Militia', 'Medical Aid', 'Agricultural', 'GovWarlord', 'Tech'])\n",
    "print(Occupation)"
   ]
  },
  {
   "cell_type": "code",
   "execution_count": 7,
   "metadata": {},
   "outputs": [],
   "source": [
    "companies = ['AA', 'AAPL', 'BA']\n",
    "\n",
    "d = {}\n",
    "for name in companies:\n",
    "    d[name] = pd.DataFrame()\n",
    "\n",
    "    "
   ]
  },
  {
   "cell_type": "code",
   "execution_count": 7,
   "metadata": {},
   "outputs": [
    {
     "name": "stdout",
     "output_type": "stream",
     "text": [
      "<class 'pandas.core.frame.DataFrame'>\n"
     ]
    },
    {
     "data": {
      "text/html": [
       "<div>\n",
       "<style scoped>\n",
       "    .dataframe tbody tr th:only-of-type {\n",
       "        vertical-align: middle;\n",
       "    }\n",
       "\n",
       "    .dataframe tbody tr th {\n",
       "        vertical-align: top;\n",
       "    }\n",
       "\n",
       "    .dataframe thead th {\n",
       "        text-align: right;\n",
       "    }\n",
       "</style>\n",
       "<table border=\"1\" class=\"dataframe\">\n",
       "  <thead>\n",
       "    <tr style=\"text-align: right;\">\n",
       "      <th></th>\n",
       "      <th>Birth Rate</th>\n",
       "      <th>Occupation</th>\n",
       "      <th>Life Span</th>\n",
       "    </tr>\n",
       "  </thead>\n",
       "  <tbody>\n",
       "    <tr>\n",
       "      <th>0</th>\n",
       "      <td>1</td>\n",
       "      <td>Medical Aid</td>\n",
       "      <td>20</td>\n",
       "    </tr>\n",
       "    <tr>\n",
       "      <th>1</th>\n",
       "      <td>1</td>\n",
       "      <td>Agricultural</td>\n",
       "      <td>94</td>\n",
       "    </tr>\n",
       "    <tr>\n",
       "      <th>2</th>\n",
       "      <td>4</td>\n",
       "      <td>Tech</td>\n",
       "      <td>37</td>\n",
       "    </tr>\n",
       "    <tr>\n",
       "      <th>3</th>\n",
       "      <td>3</td>\n",
       "      <td>GovWarlord</td>\n",
       "      <td>19</td>\n",
       "    </tr>\n",
       "    <tr>\n",
       "      <th>4</th>\n",
       "      <td>3</td>\n",
       "      <td>Militia</td>\n",
       "      <td>46</td>\n",
       "    </tr>\n",
       "    <tr>\n",
       "      <th>...</th>\n",
       "      <td>...</td>\n",
       "      <td>...</td>\n",
       "      <td>...</td>\n",
       "    </tr>\n",
       "    <tr>\n",
       "      <th>995</th>\n",
       "      <td>4</td>\n",
       "      <td>Agricultural</td>\n",
       "      <td>27</td>\n",
       "    </tr>\n",
       "    <tr>\n",
       "      <th>996</th>\n",
       "      <td>3</td>\n",
       "      <td>Agricultural</td>\n",
       "      <td>38</td>\n",
       "    </tr>\n",
       "    <tr>\n",
       "      <th>997</th>\n",
       "      <td>3</td>\n",
       "      <td>Militia</td>\n",
       "      <td>40</td>\n",
       "    </tr>\n",
       "    <tr>\n",
       "      <th>998</th>\n",
       "      <td>2</td>\n",
       "      <td>Medical Aid</td>\n",
       "      <td>77</td>\n",
       "    </tr>\n",
       "    <tr>\n",
       "      <th>999</th>\n",
       "      <td>1</td>\n",
       "      <td>Agricultural</td>\n",
       "      <td>69</td>\n",
       "    </tr>\n",
       "  </tbody>\n",
       "</table>\n",
       "<p>1000 rows × 3 columns</p>\n",
       "</div>"
      ],
      "text/plain": [
       "     Birth Rate    Occupation  Life Span\n",
       "0             1   Medical Aid         20\n",
       "1             1  Agricultural         94\n",
       "2             4          Tech         37\n",
       "3             3    GovWarlord         19\n",
       "4             3       Militia         46\n",
       "..          ...           ...        ...\n",
       "995           4  Agricultural         27\n",
       "996           3  Agricultural         38\n",
       "997           3       Militia         40\n",
       "998           2   Medical Aid         77\n",
       "999           1  Agricultural         69\n",
       "\n",
       "[1000 rows x 3 columns]"
      ]
     },
     "execution_count": 7,
     "metadata": {},
     "output_type": "execute_result"
    }
   ],
   "source": [
    "from random import *\n",
    "import pandas as pd\n",
    "\n",
    "emptyList = []\n",
    "\n",
    "for x in range(1000):\n",
    "    \n",
    "\n",
    "    lifeSpan = randrange(18,99)\n",
    "\n",
    "    birthRate = randint(1, 4)\n",
    "\n",
    "    Occupation = choice(['Manual Labor', 'Militia', 'Medical Aid', 'Agricultural', 'GovWarlord', 'Tech'])\n",
    "    \n",
    "    num = 1 + x\n",
    "    \n",
    "    df = 1 + x\n",
    "    \n",
    "    name = 'list' + str(num)\n",
    "        \n",
    "    #print(name)\n",
    "\n",
    "        \n",
    "    name = [birthRate, Occupation, lifeSpan]\n",
    "        \n",
    "    #display(name)\n",
    "    \n",
    "    emptyList.append(name)\n",
    "    \n",
    "    \n",
    "    \n",
    "    \n",
    "    \n",
    "#display(emptyList)\n",
    "\n",
    "df = pd.DataFrame(emptyList, columns =['Birth Rate', 'Occupation', 'Life Span'])\n",
    "\n",
    "print(type(df))\n",
    "\n",
    "df\n",
    "\n",
    "#df.to_csv(\"/home/aaron/file_name\", sep='\\t')\n"
   ]
  },
  {
   "cell_type": "code",
   "execution_count": 8,
   "metadata": {},
   "outputs": [
    {
     "name": "stdout",
     "output_type": "stream",
     "text": [
      "<class 'pandas.core.frame.DataFrame'>\n",
      "RangeIndex: 1000 entries, 0 to 999\n",
      "Data columns (total 3 columns):\n",
      "Birth Rate    1000 non-null int64\n",
      "Occupation    1000 non-null object\n",
      "Life Span     1000 non-null int64\n",
      "dtypes: int64(2), object(1)\n",
      "memory usage: 23.6+ KB\n"
     ]
    }
   ],
   "source": [
    "df.info()"
   ]
  },
  {
   "cell_type": "code",
   "execution_count": 9,
   "metadata": {},
   "outputs": [
    {
     "data": {
      "text/plain": [
       "81"
      ]
     },
     "execution_count": 9,
     "metadata": {},
     "output_type": "execute_result"
    }
   ],
   "source": [
    "df['Life Span'].nunique()"
   ]
  },
  {
   "cell_type": "code",
   "execution_count": 11,
   "metadata": {},
   "outputs": [
    {
     "data": {
      "text/plain": [
       "[[1], [1], [1]]"
      ]
     },
     "execution_count": 11,
     "metadata": {},
     "output_type": "execute_result"
    }
   ],
   "source": [
    "plot_data = [[]] * 3\n",
    "plot_data\n",
    "plot_data[0].append(1)\n",
    "plot_data"
   ]
  },
  {
   "cell_type": "code",
   "execution_count": 12,
   "metadata": {},
   "outputs": [
    {
     "data": {
      "text/html": [
       "<div>\n",
       "<style scoped>\n",
       "    .dataframe tbody tr th:only-of-type {\n",
       "        vertical-align: middle;\n",
       "    }\n",
       "\n",
       "    .dataframe tbody tr th {\n",
       "        vertical-align: top;\n",
       "    }\n",
       "\n",
       "    .dataframe thead th {\n",
       "        text-align: right;\n",
       "    }\n",
       "</style>\n",
       "<table border=\"1\" class=\"dataframe\">\n",
       "  <thead>\n",
       "    <tr style=\"text-align: right;\">\n",
       "      <th></th>\n",
       "      <th>BirthRate</th>\n",
       "      <th>Occupation</th>\n",
       "      <th>lifeSpan</th>\n",
       "    </tr>\n",
       "  </thead>\n",
       "  <tbody>\n",
       "    <tr>\n",
       "      <th>0</th>\n",
       "      <td>2</td>\n",
       "      <td>Tech</td>\n",
       "      <td>70</td>\n",
       "    </tr>\n",
       "  </tbody>\n",
       "</table>\n",
       "</div>"
      ],
      "text/plain": [
       "   BirthRate Occupation  lifeSpan\n",
       "0          2       Tech        70"
      ]
     },
     "metadata": {},
     "output_type": "display_data"
    },
    {
     "name": "stdout",
     "output_type": "stream",
     "text": [
      "<class 'dict'>\n",
      "{'BirthRate': 2, 'Occupation': 'Tech', 'lifeSpan': 70}\n"
     ]
    }
   ],
   "source": [
    "\n",
    "\n",
    "\n",
    "#def pop():\n",
    "    \n",
    "lifeSpan = randrange(18,99)\n",
    "\n",
    "birthRate = randint(1, 4)\n",
    "\n",
    "Occupation = choice(['Manual Labor', 'Militia', 'Medical Aid', 'Agricultural', 'GovWarlord', 'Tech'])\n",
    "\n",
    "person = {'BirthRate': '',\n",
    "     'Occupation': '',\n",
    "     'lifeSpan': '',\n",
    "     }\n",
    "person.update({'BirthRate':birthRate})\n",
    "\n",
    "person.update({'Occupation':Occupation})\n",
    "\n",
    "person.update({'lifeSpan':lifeSpan})\n",
    "\n",
    "# person2 = {'BirthRate': '',\n",
    "#       'Occupation': '',\n",
    "#       'lifeSpan': '',\n",
    "#       }\n",
    "# person2.update({'BirthRate':birthRate})\n",
    "\n",
    "# person2.update({'Occupation':Occupation})\n",
    "\n",
    "# person2.update({'lifeSpan':lifeSpan})\n",
    "\n",
    "pd_df = pd.DataFrame(person, index=[0])\n",
    "\n",
    "display(pd_df)\n",
    "\n",
    "# pd_df2 = pd.DataFrame(person2, index=[0])\n",
    "\n",
    "\n",
    "\n",
    "\n",
    "#for x in range(0, 10):\n",
    "#    print(pop())\n",
    "\n",
    "#pop()\n",
    "\n",
    "#print(person)\n",
    "\n",
    "#display(pd_df3)\n",
    "\n",
    "#display(pd_df)\n",
    "print(type(person))\n",
    "print(person)"
   ]
  },
  {
   "cell_type": "code",
   "execution_count": 13,
   "metadata": {},
   "outputs": [
    {
     "name": "stdout",
     "output_type": "stream",
     "text": [
      "person1\n",
      "person2\n",
      "person3\n",
      "person4\n",
      "person5\n"
     ]
    }
   ],
   "source": [
    "l2 = []\n",
    "\n",
    "for x in range(5):\n",
    "    \n",
    "    num = 1 + x\n",
    "    \n",
    "    name = 'person' + str(num)\n",
    "        \n",
    "    print(name)\n",
    "    \n",
    "    #l2.append(name)\n",
    "    \n",
    "#caca = l2    \n",
    "    \n",
    "# print(caca)1\n",
    "# print(type(caca))\n",
    "    \n",
    "    \n",
    "    "
   ]
  },
  {
   "cell_type": "code",
   "execution_count": null,
   "metadata": {},
   "outputs": [],
   "source": []
  },
  {
   "cell_type": "code",
   "execution_count": 14,
   "metadata": {},
   "outputs": [
    {
     "name": "stdout",
     "output_type": "stream",
     "text": [
      "person1\n",
      "person2\n",
      "person3\n",
      "person4\n",
      "person5\n"
     ]
    }
   ],
   "source": [
    "l2 = []\n",
    "\n",
    "for x in range(5):\n",
    "    \n",
    "    num = 1 + x\n",
    "    \n",
    "    name = 'person' + str(num)\n",
    "        \n",
    "    print(name)"
   ]
  },
  {
   "cell_type": "code",
   "execution_count": 15,
   "metadata": {},
   "outputs": [
    {
     "name": "stdout",
     "output_type": "stream",
     "text": [
      "10\n",
      "20\n",
      "30\n",
      "40\n",
      "50\n",
      "60\n",
      "70\n",
      "80\n"
     ]
    }
   ],
   "source": [
    "l1 = [1,2,3,4,5,6,7,8]\n",
    "l2 = []\n",
    "for number in l1:\n",
    "    calc = number*10\n",
    "    print(calc)\n",
    "    l2.append(calc)"
   ]
  },
  {
   "cell_type": "code",
   "execution_count": 16,
   "metadata": {},
   "outputs": [
    {
     "ename": "SyntaxError",
     "evalue": "invalid syntax (<ipython-input-16-da2f2d421116>, line 30)",
     "output_type": "error",
     "traceback": [
      "\u001b[0;36m  File \u001b[0;32m\"<ipython-input-16-da2f2d421116>\"\u001b[0;36m, line \u001b[0;32m30\u001b[0m\n\u001b[0;31m    if x = 5:\u001b[0m\n\u001b[0m         ^\u001b[0m\n\u001b[0;31mSyntaxError\u001b[0m\u001b[0;31m:\u001b[0m invalid syntax\n"
     ]
    }
   ],
   "source": [
    "l2 = []\n",
    "\n",
    "for x in range(5):\n",
    "    \n",
    "    num = 1 + x\n",
    "    \n",
    "    name = 'person' + str(num)\n",
    " \n",
    "    lifeSpan = randrange(22,99)\n",
    "\n",
    "    birthRate = randint(1, 4)\n",
    "\n",
    "    Occupation = choice(['Manual Labor', 'Militia', 'Medical Aid', 'Agricultural', 'GovWarlord', 'Tech'])\n",
    "    \n",
    "    name = {'BirthRate': '',\n",
    "     'Occupation': '',\n",
    "     'lifeSpan': '',\n",
    "     }\n",
    "    \n",
    "    #print(name)\n",
    "    \n",
    "    #print(type(name))\n",
    "    \n",
    "    name['lifeSpan'] = lifeSpan\n",
    "    \n",
    "    name['BirthRate'] = birthRate\n",
    "    \n",
    "    name['Occupation'] = Occupation\n",
    "    \n",
    "    if x = 5:\n",
    "        \n",
    "        pd.DataFrame.from_dict([person1, person2])\n",
    "    \n",
    "    #l2.append(name)\n",
    "    \n",
    "    print(name)\n",
    "    \n",
    "    #print(type(l2))\n",
    "    \n",
    "#display(person)\n",
    "    \n",
    "    \n",
    "    #display(pd_df)\n"
   ]
  },
  {
   "cell_type": "code",
   "execution_count": null,
   "metadata": {},
   "outputs": [],
   "source": [
    "\n",
    "def personGen():\n",
    "    for x in range(5):\n",
    "        \n",
    "        appended_data = []\n",
    "        \n",
    "        lifeSpan = randrange(22,99)\n",
    "\n",
    "        birthRate = randint(1, 4)\n",
    "\n",
    "        Occupation = choice(['Manual Labor', 'Militia', 'Medical Aid', 'Agricultural', 'GovWarlord', 'Tech'])\n",
    "        \n",
    "        \n",
    "        \n",
    "        num = 1 + x\n",
    "\n",
    "        person = 'person' + str(num)\n",
    "        \n",
    "#         person = {'BirthRate': '{0}',\n",
    "#              'Occupation': '',\n",
    "#              'lifeSpan': '',\n",
    "#              }.format(\"caca\")\n",
    "        \n",
    "print(person)\n",
    "        \n",
    "        \n",
    "#         person.update({'BirthRate':birthRate})\n",
    "\n",
    "#         person.update({'Occupation':Occupation})\n",
    "\n",
    "#         person.update({'lifeSpan':lifeSpan}) \n",
    "                        \n",
    "#         pd_df = pd.DataFrame(person, index=[0])\n",
    "        \n",
    "        \n",
    "\n",
    "        #pd_df.append(appended_data, ignore_index = True)\n",
    "\n",
    "#         concatDF(pd_df)\n",
    "    \n",
    "\n",
    "# def concatDF(pd_df):\n",
    "    \n",
    "#     concated = pd.concat([pd_df], axis=0)\n",
    "    \n",
    "#     display(concated)\n",
    "    \n",
    "#personGen()\n",
    "\n"
   ]
  },
  {
   "cell_type": "code",
   "execution_count": null,
   "metadata": {},
   "outputs": [],
   "source": [
    "print(\"Next thing would be to for loop and give advantages to children from parents (seed)...basically a step towards evol.\")"
   ]
  },
  {
   "cell_type": "code",
   "execution_count": null,
   "metadata": {},
   "outputs": [],
   "source": []
  },
  {
   "cell_type": "code",
   "execution_count": null,
   "metadata": {},
   "outputs": [],
   "source": [
    "print(\"Need to find out by how much does each column do to the affected area by its 'traits ie Birthrae'\")"
   ]
  },
  {
   "cell_type": "code",
   "execution_count": null,
   "metadata": {},
   "outputs": [],
   "source": []
  },
  {
   "cell_type": "code",
   "execution_count": null,
   "metadata": {},
   "outputs": [],
   "source": []
  },
  {
   "cell_type": "code",
   "execution_count": null,
   "metadata": {},
   "outputs": [],
   "source": []
  }
 ],
 "metadata": {
  "kernelspec": {
   "display_name": "Python 3",
   "language": "python",
   "name": "python3"
  },
  "language_info": {
   "codemirror_mode": {
    "name": "ipython",
    "version": 3
   },
   "file_extension": ".py",
   "mimetype": "text/x-python",
   "name": "python",
   "nbconvert_exporter": "python",
   "pygments_lexer": "ipython3",
   "version": "3.6.9"
  }
 },
 "nbformat": 4,
 "nbformat_minor": 2
}
