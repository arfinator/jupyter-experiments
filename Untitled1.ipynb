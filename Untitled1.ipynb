{
 "cells": [
  {
   "cell_type": "code",
   "execution_count": 9,
   "metadata": {},
   "outputs": [
    {
     "name": "stdout",
     "output_type": "stream",
     "text": [
      "    A   B\n",
      "0   5   0\n",
      "1   5   1\n",
      "2   5   2\n",
      "3   5   3\n",
      "4   5   4\n",
      "5   5   5\n",
      "6   5   6\n",
      "7   5   7\n",
      "8   5   8\n",
      "9   5   9\n",
      "10  5  10\n",
      "11  5  11\n",
      "12  5  12\n",
      "13  5  13\n",
      "14  5  14\n",
      "15  5  15\n",
      "16  5  16\n",
      "17  5  17\n",
      "18  5  18\n",
      "19  5  19\n",
      "20  1  20\n",
      "21  1  21\n",
      "===================\n",
      "    A   B\n",
      "3   5   3\n",
      "5   5   5\n",
      "6   5   6\n",
      "10  5  10\n",
      "20  1  20\n",
      "21  1  21\n"
     ]
    }
   ],
   "source": [
    "df = pd.DataFrame({'A': [5] * 20 + [1] * 2,'B': list(range(22))})\n",
    "\n",
    "print(df)\n",
    "print(\"===================\")\n",
    "\n",
    "df = df.drop(df[df['A'] > 4].sample(frac=.8).index)\n",
    "print (df)\n"
   ]
  }
 ],
 "metadata": {
  "kernelspec": {
   "display_name": "Python 3",
   "language": "python",
   "name": "python3"
  },
  "language_info": {
   "codemirror_mode": {
    "name": "ipython",
    "version": 3
   },
   "file_extension": ".py",
   "mimetype": "text/x-python",
   "name": "python",
   "nbconvert_exporter": "python",
   "pygments_lexer": "ipython3",
   "version": "3.6.9"
  }
 },
 "nbformat": 4,
 "nbformat_minor": 2
}
