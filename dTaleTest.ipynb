{
 "cells": [
  {
   "cell_type": "code",
   "execution_count": 1,
   "metadata": {},
   "outputs": [
    {
     "name": "stdout",
     "output_type": "stream",
     "text": [
      "<class 'pandas.core.frame.DataFrame'>\n",
      "RangeIndex: 999 entries, 0 to 998\n",
      "Data columns (total 3 columns):\n",
      "Birth Rate    999 non-null int64\n",
      "Occupation    999 non-null object\n",
      "Life Span     999 non-null int64\n",
      "dtypes: int64(2), object(1)\n",
      "memory usage: 23.5+ KB\n"
     ]
    }
   ],
   "source": [
    "import pandas as pd\n",
    "import numpy as np\n",
    "import ipywidgets as widgets\n",
    "from random import *\n",
    "\n",
    "def first_population(entered_num):\n",
    "\n",
    "    empty_list = []\n",
    "\n",
    "    for x in range(entered_num):\n",
    "\n",
    "\n",
    "        lifeSpan = randrange(18,99)\n",
    "        birthRate = randint(1, 4)\n",
    "        Occupation = choice(['Manual Labor', 'Militia', 'Medical Aid', 'Agricultural', 'GovWarlord', 'Tech'])\n",
    "\n",
    "        num = 1 + x   \n",
    "        df = 1 + x\n",
    "\n",
    "        name = 'list' + str(num)\n",
    "        name = [birthRate, Occupation, lifeSpan]\n",
    "\n",
    "        empty_list.append(name)\n",
    "\n",
    "\n",
    "    df = pd.DataFrame(empty_list, columns =['Birth Rate', 'Occupation', 'Life Span'])\n",
    "    \n",
    "    df.to_csv(\"/home/aaron/file_pop.csv\")\n",
    "\n",
    "    return(df)\n",
    "    return(entered_num)\n",
    "\n",
    "first_population(999)\n",
    "\n",
    "df = pd.read_csv('/home/aaron/file_pop.csv')\n",
    "\n",
    "df1 = df.drop(columns = ['Unnamed: 0'])\n",
    "\n",
    "df1.info(verbose=True)\n",
    "\n",
    "a = df['Occupation'].str.split('|', expand=True).stack().value_counts()\n",
    "\n",
    "def plot_occupation():\n",
    "\n",
    "    import matplotlib.pyplot as plt\n",
    "\n",
    "\n",
    "    sales_by_type = df1[\"Occupation\"].value_counts()\n",
    "    sales_by_type.sort_values().plot(kind='barh')\n",
    "\n",
    "    plt.title('')\n",
    "    plt.ylabel('Occupation')\n",
    "    plt.xlabel('Amount of Population')\n",
    "\n",
    "    for index_label, row_series in df1.iterrows():\n",
    "    # For each row update the 'Bonus' value to it's double\n",
    "        df1.at[index_label , 'Life Span'] = row_series['Life Span'] / 2\n",
    "\n",
    "#print(type(a))\n",
    "\n",
    "#df1"
   ]
  },
  {
   "cell_type": "code",
   "execution_count": 2,
   "metadata": {},
   "outputs": [
    {
     "data": {
      "text/html": [
       "\n",
       "        <iframe\n",
       "            width=\"100%\"\n",
       "            height=\"475\"\n",
       "            src=\"http://localhost.localdomain:40000/dtale/iframe/1\"\n",
       "            frameborder=\"0\"\n",
       "            allowfullscreen\n",
       "        ></iframe>\n",
       "        "
      ],
      "text/plain": [
       "<IPython.lib.display.IFrame at 0x7fb70c07ada0>"
      ]
     },
     "metadata": {},
     "output_type": "display_data"
    },
    {
     "data": {
      "text/plain": []
     },
     "execution_count": 2,
     "metadata": {},
     "output_type": "execute_result"
    },
    {
     "name": "stdout",
     "output_type": "stream",
     "text": [
      "Exception on /charts/_dash-update-component [POST]\n",
      "Traceback (most recent call last):\n",
      "  File \"/opt/rh/rh-python36/root/usr/lib/python3.6/site-packages/flask/app.py\", line 2446, in wsgi_app\n",
      "    response = self.full_dispatch_request()\n",
      "  File \"/opt/rh/rh-python36/root/usr/lib/python3.6/site-packages/flask/app.py\", line 1951, in full_dispatch_request\n",
      "    rv = self.handle_user_exception(e)\n",
      "  File \"/opt/rh/rh-python36/root/usr/lib/python3.6/site-packages/flask/app.py\", line 1820, in handle_user_exception\n",
      "    reraise(exc_type, exc_value, tb)\n",
      "  File \"/opt/rh/rh-python36/root/usr/lib/python3.6/site-packages/flask/_compat.py\", line 39, in reraise\n",
      "    raise value\n",
      "  File \"/opt/rh/rh-python36/root/usr/lib/python3.6/site-packages/flask/app.py\", line 1949, in full_dispatch_request\n",
      "    rv = self.dispatch_request()\n",
      "  File \"/opt/rh/rh-python36/root/usr/lib/python3.6/site-packages/flask/app.py\", line 1935, in dispatch_request\n",
      "    return self.view_functions[rule.endpoint](**req.view_args)\n",
      "  File \"/opt/rh/rh-python36/root/usr/lib/python3.6/site-packages/dash/dash.py\", line 1461, in dispatch\n",
      "    response.set_data(self.callback_map[output][\"callback\"](*args))\n",
      "  File \"/opt/rh/rh-python36/root/usr/lib/python3.6/site-packages/dash/dash.py\", line 1341, in add_context\n",
      "    output_value = func(*args, **kwargs)  # %% callback invoked %%\n",
      "  File \"/opt/rh/rh-python36/root/usr/lib/python3.6/site-packages/dtale/dash_application/views.py\", line 311, in update_yaxis_data\n",
      "    mins = range_data.get('min', {})\n",
      "AttributeError: 'NoneType' object has no attribute 'get'\n"
     ]
    },
    {
     "name": "stderr",
     "output_type": "stream",
     "text": [
      "2020-03-27 16:16:57,882 - ERROR    - Exception on /charts/_dash-update-component [POST]\n",
      "Traceback (most recent call last):\n",
      "  File \"/opt/rh/rh-python36/root/usr/lib/python3.6/site-packages/flask/app.py\", line 2446, in wsgi_app\n",
      "    response = self.full_dispatch_request()\n",
      "  File \"/opt/rh/rh-python36/root/usr/lib/python3.6/site-packages/flask/app.py\", line 1951, in full_dispatch_request\n",
      "    rv = self.handle_user_exception(e)\n",
      "  File \"/opt/rh/rh-python36/root/usr/lib/python3.6/site-packages/flask/app.py\", line 1820, in handle_user_exception\n",
      "    reraise(exc_type, exc_value, tb)\n",
      "  File \"/opt/rh/rh-python36/root/usr/lib/python3.6/site-packages/flask/_compat.py\", line 39, in reraise\n",
      "    raise value\n",
      "  File \"/opt/rh/rh-python36/root/usr/lib/python3.6/site-packages/flask/app.py\", line 1949, in full_dispatch_request\n",
      "    rv = self.dispatch_request()\n",
      "  File \"/opt/rh/rh-python36/root/usr/lib/python3.6/site-packages/flask/app.py\", line 1935, in dispatch_request\n",
      "    return self.view_functions[rule.endpoint](**req.view_args)\n",
      "  File \"/opt/rh/rh-python36/root/usr/lib/python3.6/site-packages/dash/dash.py\", line 1461, in dispatch\n",
      "    response.set_data(self.callback_map[output][\"callback\"](*args))\n",
      "  File \"/opt/rh/rh-python36/root/usr/lib/python3.6/site-packages/dash/dash.py\", line 1341, in add_context\n",
      "    output_value = func(*args, **kwargs)  # %% callback invoked %%\n",
      "  File \"/opt/rh/rh-python36/root/usr/lib/python3.6/site-packages/dtale/dash_application/views.py\", line 311, in update_yaxis_data\n",
      "    mins = range_data.get('min', {})\n",
      "AttributeError: 'NoneType' object has no attribute 'get'\n"
     ]
    },
    {
     "name": "stdout",
     "output_type": "stream",
     "text": [
      "Exception on /charts/_dash-update-component [POST]\n",
      "Traceback (most recent call last):\n",
      "  File \"/opt/rh/rh-python36/root/usr/lib/python3.6/site-packages/flask/app.py\", line 2446, in wsgi_app\n",
      "    response = self.full_dispatch_request()\n",
      "  File \"/opt/rh/rh-python36/root/usr/lib/python3.6/site-packages/flask/app.py\", line 1951, in full_dispatch_request\n",
      "    rv = self.handle_user_exception(e)\n",
      "  File \"/opt/rh/rh-python36/root/usr/lib/python3.6/site-packages/flask/app.py\", line 1820, in handle_user_exception\n",
      "    reraise(exc_type, exc_value, tb)\n",
      "  File \"/opt/rh/rh-python36/root/usr/lib/python3.6/site-packages/flask/_compat.py\", line 39, in reraise\n",
      "    raise value\n",
      "  File \"/opt/rh/rh-python36/root/usr/lib/python3.6/site-packages/flask/app.py\", line 1949, in full_dispatch_request\n",
      "    rv = self.dispatch_request()\n",
      "  File \"/opt/rh/rh-python36/root/usr/lib/python3.6/site-packages/flask/app.py\", line 1935, in dispatch_request\n",
      "    return self.view_functions[rule.endpoint](**req.view_args)\n",
      "  File \"/opt/rh/rh-python36/root/usr/lib/python3.6/site-packages/dash/dash.py\", line 1461, in dispatch\n",
      "    response.set_data(self.callback_map[output][\"callback\"](*args))\n",
      "  File \"/opt/rh/rh-python36/root/usr/lib/python3.6/site-packages/dash/dash.py\", line 1341, in add_context\n",
      "    output_value = func(*args, **kwargs)  # %% callback invoked %%\n",
      "  File \"/opt/rh/rh-python36/root/usr/lib/python3.6/site-packages/dtale/dash_application/views.py\", line 311, in update_yaxis_data\n",
      "    mins = range_data.get('min', {})\n",
      "AttributeError: 'NoneType' object has no attribute 'get'\n"
     ]
    },
    {
     "name": "stderr",
     "output_type": "stream",
     "text": [
      "2020-03-27 16:16:57,962 - ERROR    - Exception on /charts/_dash-update-component [POST]\n",
      "Traceback (most recent call last):\n",
      "  File \"/opt/rh/rh-python36/root/usr/lib/python3.6/site-packages/flask/app.py\", line 2446, in wsgi_app\n",
      "    response = self.full_dispatch_request()\n",
      "  File \"/opt/rh/rh-python36/root/usr/lib/python3.6/site-packages/flask/app.py\", line 1951, in full_dispatch_request\n",
      "    rv = self.handle_user_exception(e)\n",
      "  File \"/opt/rh/rh-python36/root/usr/lib/python3.6/site-packages/flask/app.py\", line 1820, in handle_user_exception\n",
      "    reraise(exc_type, exc_value, tb)\n",
      "  File \"/opt/rh/rh-python36/root/usr/lib/python3.6/site-packages/flask/_compat.py\", line 39, in reraise\n",
      "    raise value\n",
      "  File \"/opt/rh/rh-python36/root/usr/lib/python3.6/site-packages/flask/app.py\", line 1949, in full_dispatch_request\n",
      "    rv = self.dispatch_request()\n",
      "  File \"/opt/rh/rh-python36/root/usr/lib/python3.6/site-packages/flask/app.py\", line 1935, in dispatch_request\n",
      "    return self.view_functions[rule.endpoint](**req.view_args)\n",
      "  File \"/opt/rh/rh-python36/root/usr/lib/python3.6/site-packages/dash/dash.py\", line 1461, in dispatch\n",
      "    response.set_data(self.callback_map[output][\"callback\"](*args))\n",
      "  File \"/opt/rh/rh-python36/root/usr/lib/python3.6/site-packages/dash/dash.py\", line 1341, in add_context\n",
      "    output_value = func(*args, **kwargs)  # %% callback invoked %%\n",
      "  File \"/opt/rh/rh-python36/root/usr/lib/python3.6/site-packages/dtale/dash_application/views.py\", line 311, in update_yaxis_data\n",
      "    mins = range_data.get('min', {})\n",
      "AttributeError: 'NoneType' object has no attribute 'get'\n"
     ]
    },
    {
     "name": "stdout",
     "output_type": "stream",
     "text": [
      "Exception on /charts/_dash-update-component [POST]\n",
      "Traceback (most recent call last):\n",
      "  File \"/opt/rh/rh-python36/root/usr/lib/python3.6/site-packages/flask/app.py\", line 2446, in wsgi_app\n",
      "    response = self.full_dispatch_request()\n",
      "  File \"/opt/rh/rh-python36/root/usr/lib/python3.6/site-packages/flask/app.py\", line 1951, in full_dispatch_request\n",
      "    rv = self.handle_user_exception(e)\n",
      "  File \"/opt/rh/rh-python36/root/usr/lib/python3.6/site-packages/flask/app.py\", line 1820, in handle_user_exception\n",
      "    reraise(exc_type, exc_value, tb)\n",
      "  File \"/opt/rh/rh-python36/root/usr/lib/python3.6/site-packages/flask/_compat.py\", line 39, in reraise\n",
      "    raise value\n",
      "  File \"/opt/rh/rh-python36/root/usr/lib/python3.6/site-packages/flask/app.py\", line 1949, in full_dispatch_request\n",
      "    rv = self.dispatch_request()\n",
      "  File \"/opt/rh/rh-python36/root/usr/lib/python3.6/site-packages/flask/app.py\", line 1935, in dispatch_request\n",
      "    return self.view_functions[rule.endpoint](**req.view_args)\n",
      "  File \"/opt/rh/rh-python36/root/usr/lib/python3.6/site-packages/dash/dash.py\", line 1461, in dispatch\n",
      "    response.set_data(self.callback_map[output][\"callback\"](*args))\n",
      "  File \"/opt/rh/rh-python36/root/usr/lib/python3.6/site-packages/dash/dash.py\", line 1341, in add_context\n",
      "    output_value = func(*args, **kwargs)  # %% callback invoked %%\n",
      "  File \"/opt/rh/rh-python36/root/usr/lib/python3.6/site-packages/dtale/dash_application/views.py\", line 311, in update_yaxis_data\n",
      "    mins = range_data.get('min', {})\n",
      "AttributeError: 'NoneType' object has no attribute 'get'\n"
     ]
    },
    {
     "name": "stderr",
     "output_type": "stream",
     "text": [
      "2020-03-27 16:16:57,974 - ERROR    - Exception on /charts/_dash-update-component [POST]\n",
      "Traceback (most recent call last):\n",
      "  File \"/opt/rh/rh-python36/root/usr/lib/python3.6/site-packages/flask/app.py\", line 2446, in wsgi_app\n",
      "    response = self.full_dispatch_request()\n",
      "  File \"/opt/rh/rh-python36/root/usr/lib/python3.6/site-packages/flask/app.py\", line 1951, in full_dispatch_request\n",
      "    rv = self.handle_user_exception(e)\n",
      "  File \"/opt/rh/rh-python36/root/usr/lib/python3.6/site-packages/flask/app.py\", line 1820, in handle_user_exception\n",
      "    reraise(exc_type, exc_value, tb)\n",
      "  File \"/opt/rh/rh-python36/root/usr/lib/python3.6/site-packages/flask/_compat.py\", line 39, in reraise\n",
      "    raise value\n",
      "  File \"/opt/rh/rh-python36/root/usr/lib/python3.6/site-packages/flask/app.py\", line 1949, in full_dispatch_request\n",
      "    rv = self.dispatch_request()\n",
      "  File \"/opt/rh/rh-python36/root/usr/lib/python3.6/site-packages/flask/app.py\", line 1935, in dispatch_request\n",
      "    return self.view_functions[rule.endpoint](**req.view_args)\n",
      "  File \"/opt/rh/rh-python36/root/usr/lib/python3.6/site-packages/dash/dash.py\", line 1461, in dispatch\n",
      "    response.set_data(self.callback_map[output][\"callback\"](*args))\n",
      "  File \"/opt/rh/rh-python36/root/usr/lib/python3.6/site-packages/dash/dash.py\", line 1341, in add_context\n",
      "    output_value = func(*args, **kwargs)  # %% callback invoked %%\n",
      "  File \"/opt/rh/rh-python36/root/usr/lib/python3.6/site-packages/dtale/dash_application/views.py\", line 311, in update_yaxis_data\n",
      "    mins = range_data.get('min', {})\n",
      "AttributeError: 'NoneType' object has no attribute 'get'\n"
     ]
    },
    {
     "name": "stdout",
     "output_type": "stream",
     "text": [
      "Executing shutdown due to inactivity...\n"
     ]
    },
    {
     "name": "stderr",
     "output_type": "stream",
     "text": [
      "2020-03-27 17:34:27,637 - INFO     - Executing shutdown due to inactivity...\n"
     ]
    },
    {
     "name": "stdout",
     "output_type": "stream",
     "text": [
      "Executing shutdown...\n"
     ]
    },
    {
     "name": "stderr",
     "output_type": "stream",
     "text": [
      "2020-03-27 17:34:27,647 - INFO     - Executing shutdown...\n"
     ]
    }
   ],
   "source": [
    "import dtale\n",
    "dtale.show(df1)"
   ]
  },
  {
   "cell_type": "code",
   "execution_count": null,
   "metadata": {},
   "outputs": [],
   "source": []
  },
  {
   "cell_type": "code",
   "execution_count": 1,
   "metadata": {},
   "outputs": [
    {
     "data": {
      "text/plain": [
       "False"
      ]
     },
     "execution_count": 1,
     "metadata": {},
     "output_type": "execute_result"
    }
   ],
   "source": [
    "import webbrowser \n",
    "webbrowser.open('http://www.python.org') "
   ]
  }
 ],
 "metadata": {
  "kernelspec": {
   "display_name": "Python 3",
   "language": "python",
   "name": "python3"
  },
  "language_info": {
   "codemirror_mode": {
    "name": "ipython",
    "version": 3
   },
   "file_extension": ".py",
   "mimetype": "text/x-python",
   "name": "python",
   "nbconvert_exporter": "python",
   "pygments_lexer": "ipython3",
   "version": "3.6.9"
  }
 },
 "nbformat": 4,
 "nbformat_minor": 2
}
