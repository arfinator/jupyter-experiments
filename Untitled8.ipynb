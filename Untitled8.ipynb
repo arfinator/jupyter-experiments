{
 "cells": [
  {
   "cell_type": "code",
   "execution_count": null,
   "metadata": {},
   "outputs": [],
   "source": [
    "def first_population():\n",
    "\n",
    "    emptyList = []\n",
    "\n",
    "    for x in range(20):\n",
    "\n",
    "\n",
    "        lifeSpan = randrange(18,99)\n",
    "        birthRate = randint(1, 4)\n",
    "        Occupation = choice(['Manual Labor', 'Militia', 'Medical Aid', 'Agricultural', 'GovWarlord', 'Tech'])\n",
    "\n",
    "        num = 1 + x   \n",
    "        df = 1 + x\n",
    "\n",
    "        name = 'list' + str(num)\n",
    "        name = [birthRate, Occupation, lifeSpan]\n",
    "\n",
    "        emptyList.append(name)\n",
    "\n",
    "\n",
    "    df = pd.DataFrame(emptyList, columns =['Birth Rate', 'Occupation', 'Life Span'])\n",
    "\n",
    "    return(df)"
   ]
  },
  {
   "cell_type": "code",
   "execution_count": null,
   "metadata": {},
   "outputs": [],
   "source": []
  }
 ],
 "metadata": {
  "kernelspec": {
   "display_name": "Python 3",
   "language": "python",
   "name": "python3"
  },
  "language_info": {
   "codemirror_mode": {
    "name": "ipython",
    "version": 3
   },
   "file_extension": ".py",
   "mimetype": "text/x-python",
   "name": "python",
   "nbconvert_exporter": "python",
   "pygments_lexer": "ipython3",
   "version": "3.6.9"
  }
 },
 "nbformat": 4,
 "nbformat_minor": 2
}
