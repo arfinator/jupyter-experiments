{
 "cells": [
  {
   "cell_type": "code",
   "execution_count": 3,
   "metadata": {},
   "outputs": [],
   "source": [
    "import sys\n",
    "import os.path\n",
    "import subprocess\n",
    "import dateutil.parser\n",
    "from datetime import timedelta, datetime\n",
    "from pyspark import SparkConf\n",
    "from pyspark import SparkContext\n",
    "from pyspark.sql.types import *\n",
    "from pyspark.sql.functions import *\n",
    "from pyspark import sql"
   ]
  },
  {
   "cell_type": "code",
   "execution_count": 1,
   "metadata": {},
   "outputs": [
    {
     "name": "stdout",
     "output_type": "stream",
     "text": [
      "42\n"
     ]
    }
   ],
   "source": [
    "def hi():\n",
    "    # other code...\n",
    "    hi.bye = 42  # Create function attribute.\n",
    "    sigh = 10\n",
    "\n",
    "hi()\n",
    "print(hi.bye)"
   ]
  },
  {
   "cell_type": "code",
   "execution_count": 2,
   "metadata": {},
   "outputs": [],
   "source": [
    "import calendar"
   ]
  },
  {
   "cell_type": "code",
   "execution_count": 13,
   "metadata": {},
   "outputs": [
    {
     "name": "stdout",
     "output_type": "stream",
     "text": [
      "    January 2018\n",
      "Su Mo Tu We Th Fr Sa\n",
      "    1  2  3  4  5  6\n",
      " 7  8  9 10 11 12 13\n",
      "14 15 16 17 18 19 20\n",
      "21 22 23 24 25 26 27\n",
      "28 29 30 31\n",
      "\n"
     ]
    }
   ],
   "source": [
    "c = calendar.TextCalendar(calendar.SUNDAY)\n",
    "str = c.formatmonth(2018, 1)\n",
    "print(str)\n",
    "\n",
    "for x in "
   ]
  },
  {
   "cell_type": "code",
   "execution_count": 16,
   "metadata": {},
   "outputs": [
    {
     "name": "stdout",
     "output_type": "stream",
     "text": [
      "   January  7\n",
      "  February  4\n",
      "     March  4\n",
      "     April  1\n",
      "       May  6\n",
      "      June  3\n",
      "      July  1\n",
      "    August  5\n",
      " September  2\n",
      "   October  7\n",
      "  November  4\n",
      "  December  2\n"
     ]
    }
   ],
   "source": [
    "for month in range (1,13):\n",
    "    mycal = calendar.monthcalendar(2018, month)\n",
    "    week1 = mycal[0]\n",
    "    week2 = mycal[1]\n",
    "    \n",
    "    if week1[calendar.MONDAY] != 0:\n",
    "        auditday = week1[calendar.MONDAY]\n",
    "    else:\n",
    "        auditday = week2[calendar.MONDAY]\n",
    "        \n",
    "    print(\"%10s %2d\" % (calendar.month_name[month], auditday))"
   ]
  },
  {
   "cell_type": "code",
   "execution_count": 20,
   "metadata": {},
   "outputs": [
    {
     "ename": "SyntaxError",
     "evalue": "invalid syntax (<ipython-input-20-f98bd5290173>, line 5)",
     "output_type": "error",
     "traceback": [
      "\u001b[0;36m  File \u001b[0;32m\"<ipython-input-20-f98bd5290173>\"\u001b[0;36m, line \u001b[0;32m5\u001b[0m\n\u001b[0;31m    print \"%s, %d/%d/%d\" % (calendar.day_name[d.weekday()], d.year, d.month, d.day)\u001b[0m\n\u001b[0m                       ^\u001b[0m\n\u001b[0;31mSyntaxError\u001b[0m\u001b[0;31m:\u001b[0m invalid syntax\n"
     ]
    }
   ],
   "source": [
    "import calendar\n",
    "day_of_week = 2\n",
    "max_weeks = 10\n",
    "for d in get_all_dates_of_day_of_week_in_year (day_of_week, 2018, 1, 1, max_weeks):\n",
    "    print \"%s, %d/%d/%d\" % (calendar.day_name[d.weekday()], d.year, d.month, d.day)"
   ]
  },
  {
   "cell_type": "code",
   "execution_count": 68,
   "metadata": {},
   "outputs": [
    {
     "name": "stdout",
     "output_type": "stream",
     "text": [
      "20180107_v1\n",
      "20180114_v1\n",
      "20180121_v1\n",
      "20180128_v1\n",
      "20180204_v1\n",
      "20180211_v1\n",
      "20180218_v1\n",
      "20180225_v1\n",
      "20180304_v1\n",
      "20180311_v1\n",
      "20180318_v1\n",
      "20180325_v1\n",
      "20180401_v1\n",
      "20180408_v1\n",
      "20180415_v1\n",
      "20180422_v1\n",
      "20180429_v1\n",
      "20180506_v1\n",
      "20180513_v1\n",
      "20180520_v1\n",
      "20180527_v1\n",
      "20180603_v1\n",
      "20180610_v1\n",
      "20180617_v1\n",
      "20180624_v1\n",
      "20180701_v1\n",
      "20180708_v1\n",
      "20180715_v1\n",
      "20180722_v1\n",
      "20180729_v1\n",
      "20180805_v1\n",
      "20180812_v1\n",
      "20180819_v1\n",
      "20180826_v1\n",
      "20180902_v1\n",
      "20180909_v1\n",
      "20180916_v1\n",
      "20180923_v1\n",
      "20180930_v1\n",
      "20181007_v1\n",
      "20181014_v1\n",
      "20181021_v1\n",
      "20181028_v1\n",
      "20181104_v1\n",
      "20181111_v1\n",
      "20181118_v1\n",
      "20181125_v1\n",
      "20181202_v1\n",
      "20181209_v1\n",
      "20181216_v1\n",
      "20181223_v1\n",
      "20181230_v1\n"
     ]
    }
   ],
   "source": [
    "from datetime import date, timedelta\n",
    "\n",
    "def allsundays(year):\n",
    "   d = date(year, 1, 1)                    # January 1st\n",
    "   d += timedelta(days = 6 - d.weekday())  # First Sunday\n",
    "   while d.year == year:\n",
    "      yield d\n",
    "      d += timedelta(days = 7)\n",
    "\n",
    "for x in allsundays(2018):\n",
    "    dateshit = x.strftime('%Y%m%d_v1')\n",
    "    print(dateshit)\n",
    "\n",
    "\n"
   ]
  },
  {
   "cell_type": "code",
   "execution_count": 54,
   "metadata": {},
   "outputs": [
    {
     "name": "stdout",
     "output_type": "stream",
     "text": [
      "<class 'datetime.datetime'>\n"
     ]
    }
   ],
   "source": [
    "import datetime\n",
    "t = datetime.datetime(2012, 2, 23, 0, 0)\n",
    "t.strftime('%m_%d_%Y')\n",
    "print(type(t))"
   ]
  }
 ],
 "metadata": {
  "kernelspec": {
   "display_name": "Python 3",
   "language": "python",
   "name": "python3"
  },
  "language_info": {
   "codemirror_mode": {
    "name": "ipython",
    "version": 3
   },
   "file_extension": ".py",
   "mimetype": "text/x-python",
   "name": "python",
   "nbconvert_exporter": "python",
   "pygments_lexer": "ipython3",
   "version": "3.6.9"
  }
 },
 "nbformat": 4,
 "nbformat_minor": 2
}
